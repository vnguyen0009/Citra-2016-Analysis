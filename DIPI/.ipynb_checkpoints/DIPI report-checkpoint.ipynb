{
 "cells": [
  {
   "cell_type": "markdown",
   "metadata": {},
   "source": [
    "# Calculating DIPI\n",
    "Author: Vy T. Nguyen <br>\n",
    "Last Edited: 1/2/2018\n",
    "## Purpose\n",
    "Calculate daily increase of plastechron index (DIPI) based on physiological day and compare results to slope of the plastechron index (PI) slopes"
   ]
  },
  {
   "cell_type": "code",
   "execution_count": 1,
   "metadata": {},
   "outputs": [],
   "source": [
    "calcDIPI <- function(x){\n",
    "  ## x is the subset of an hourly weather data frame\n",
    "  nGeno <- length(unique(para$geno))\n",
    "  \n",
    "  results <- data.frame('geno' = unique(para$geno), ##need to change row number for data frame\n",
    "                        'site' = numeric(nGeno), \n",
    "                        'DAP' = numeric(nGeno), \n",
    "                        'DIPI' = numeric(nGeno),\n",
    "                        'Tavg' = numeric(nGeno),\n",
    "                        stringsAsFactors=F)\n",
    "  \n",
    "  for (jj in unique(para$geno)){\n",
    "    ## To test function\n",
    "    ##x <- weatherAll[weatherAll$DAP==30 & weatherAll$site==2,]\n",
    "    ##jj = 'JAM'\n",
    "    ##\n",
    "    Tbase <- as.numeric(para[para$geno==jj,'Tbase'])\n",
    "    Topt1 <- as.numeric(para[para$geno==jj,'Topt1'])\n",
    "    Nm <- as.numeric(para[para$geno==jj,'Nm'])\n",
    "    #geno <- para[para$geno==jj,'geno']\n",
    "    site <- x[,'site']\n",
    "    DAP <- x[,'DAP']\n",
    "    Tday <- x[,'Tavg']\n",
    "    \n",
    "    ### You need to use ifelse() for arguments of length > 1\n",
    "    f <- ifelse(Tday < Tbase, 0, \n",
    "                ifelse(Topt1 <= Tday, 1/24,(Tday-Tbase)/(24*(Topt1-Tbase))))\n",
    "    \n",
    "    factor = sum(f)\n",
    "    \n",
    "    DIP <- Nm*factor\n",
    "    \n",
    "    #results$geno[jj] <- jj\n",
    "    results$site[results$geno== jj] <- site[1]\n",
    "    results$DAP[results$geno== jj] <- DAP[1]\n",
    "    results$DIPI[results$geno== jj] <- DIP\n",
    "    results$Tavg <- mean(Tday)\n",
    "    \n",
    "  }\n",
    "  #results$Tavg <- Tday\n",
    "  return(results)\n",
    "}"
   ]
  },
  {
   "cell_type": "code",
   "execution_count": 2,
   "metadata": {},
   "outputs": [
    {
     "name": "stderr",
     "output_type": "stream",
     "text": [
      "\n",
      "Attaching package: 'dplyr'\n",
      "\n",
      "The following objects are masked from 'package:plyr':\n",
      "\n",
      "    arrange, count, desc, failwith, id, mutate, rename, summarise,\n",
      "    summarize\n",
      "\n",
      "The following objects are masked from 'package:stats':\n",
      "\n",
      "    filter, lag\n",
      "\n",
      "The following objects are masked from 'package:base':\n",
      "\n",
      "    intersect, setdiff, setequal, union\n",
      "\n"
     ]
    }
   ],
   "source": [
    "rm(list = ls())\n",
    "\n",
    "library(plyr)\n",
    "library(dplyr)\n",
    "library(ggplot2)\n",
    "\n",
    "\n",
    "setwd(paste('C:/Users/Vy/Documents'))\n",
    "wd <- getwd()\n",
    "setwd(paste(wd,'work','Data','Citra2016', 'DIPI', 'src', sep = '/'))\n",
    "\n",
    "source('calcDIPI.R')\n",
    "\n",
    "weather <- read.csv('FAWN_hourly temp.csv', header = T, stringsAsFactors = F, \n",
    "                    na.strings = c('', '*', 'NA'))\n",
    "PI <- read.csv('pIndex_citra 2016.csv', header = T, stringsAsFactors = F, \n",
    "               na.strings = c('', '*', 'NA', \"#REF!\"))\n",
    "geno <- read.csv('PtoGen.csv', header = T, stringsAsFactors = F, \n",
    "                 na.strings = c('', '*', 'NA'))\n",
    "##head(weather)\n",
    "##head(PI)\n",
    "##head(geno)"
   ]
  },
  {
   "cell_type": "code",
   "execution_count": 8,
   "metadata": {},
   "outputs": [
    {
     "data": {
      "text/html": [
       "<table>\n",
       "<thead><tr><th scope=col>plot</th><th scope=col>rep</th><th scope=col>PI</th><th scope=col>DAP</th><th scope=col>site</th><th scope=col>geno</th></tr></thead>\n",
       "<tbody>\n",
       "\t<tr><td>1          </td><td>P1         </td><td>2.365212389</td><td>19         </td><td>1          </td><td>RIJC208    </td></tr>\n",
       "\t<tr><td>1          </td><td>P2         </td><td>2.489896102</td><td>19         </td><td>1          </td><td>RIJC208    </td></tr>\n",
       "\t<tr><td>1          </td><td>P3         </td><td>2.737776359</td><td>19         </td><td>1          </td><td>RIJC208    </td></tr>\n",
       "\t<tr><td>1          </td><td>P1         </td><td>3.231341798</td><td>22         </td><td>1          </td><td>RIJC208    </td></tr>\n",
       "\t<tr><td>1          </td><td>P2         </td><td>3.407787714</td><td>22         </td><td>1          </td><td>RIJC208    </td></tr>\n",
       "\t<tr><td>1          </td><td>P3         </td><td>3.873134627</td><td>22         </td><td>1          </td><td>RIJC208    </td></tr>\n",
       "</tbody>\n",
       "</table>\n"
      ],
      "text/latex": [
       "\\begin{tabular}{r|llllll}\n",
       " plot & rep & PI & DAP & site & geno\\\\\n",
       "\\hline\n",
       "\t 1           & P1          & 2.365212389 & 19          & 1           & RIJC208    \\\\\n",
       "\t 1           & P2          & 2.489896102 & 19          & 1           & RIJC208    \\\\\n",
       "\t 1           & P3          & 2.737776359 & 19          & 1           & RIJC208    \\\\\n",
       "\t 1           & P1          & 3.231341798 & 22          & 1           & RIJC208    \\\\\n",
       "\t 1           & P2          & 3.407787714 & 22          & 1           & RIJC208    \\\\\n",
       "\t 1           & P3          & 3.873134627 & 22          & 1           & RIJC208    \\\\\n",
       "\\end{tabular}\n"
      ],
      "text/markdown": [
       "\n",
       "plot | rep | PI | DAP | site | geno | \n",
       "|---|---|---|---|---|---|\n",
       "| 1           | P1          | 2.365212389 | 19          | 1           | RIJC208     | \n",
       "| 1           | P2          | 2.489896102 | 19          | 1           | RIJC208     | \n",
       "| 1           | P3          | 2.737776359 | 19          | 1           | RIJC208     | \n",
       "| 1           | P1          | 3.231341798 | 22          | 1           | RIJC208     | \n",
       "| 1           | P2          | 3.407787714 | 22          | 1           | RIJC208     | \n",
       "| 1           | P3          | 3.873134627 | 22          | 1           | RIJC208     | \n",
       "\n",
       "\n"
      ],
      "text/plain": [
       "  plot rep PI          DAP site geno   \n",
       "1 1    P1  2.365212389 19  1    RIJC208\n",
       "2 1    P2  2.489896102 19  1    RIJC208\n",
       "3 1    P3  2.737776359 19  1    RIJC208\n",
       "4 1    P1  3.231341798 22  1    RIJC208\n",
       "5 1    P2  3.407787714 22  1    RIJC208\n",
       "6 1    P3  3.873134627 22  1    RIJC208"
      ]
     },
     "metadata": {},
     "output_type": "display_data"
    }
   ],
   "source": [
    "### The code in this cell is from PI_citra 2016.pynb\n",
    "## It is putting the PI file into the correct format that we want\n",
    "PIT <- PI[c('Plot.ID', 'site', 'Plant.ID', 'PIT1', 'PIT2', 'PIT3', 'T1..DAP.', 'T2.DAP.', 'T3.DAP.')]\n",
    "#head(PIT)\n",
    "pit1 <- PI[c('Plot.ID', 'Plant.ID', 'PIT1', 'T1..DAP.', 'site')]\n",
    "colnames(pit1) <- c('plot', 'rep', 'PI', 'DAP', 'site')\n",
    "\n",
    "pit2 <- PI[c('Plot.ID', 'Plant.ID', 'PIT2', 'T2.DAP.', 'site')]\n",
    "colnames(pit2) <- c('plot', 'rep', 'PI', 'DAP', 'site')\n",
    "\n",
    "pit3 <- PI[c('Plot.ID', 'Plant.ID', 'PIT3', 'T3.DAP.', 'site')]\n",
    "colnames(pit3) <- c('plot', 'rep', 'PI', 'DAP', 'site')\n",
    "\n",
    "pit <- rbind(pit1, pit2)\n",
    "pit <- rbind(pit, pit3)\n",
    "\n",
    "noNApit <- pit[is.na(pit$PI)==F & is.na(pit$DAP)==F,]\n",
    "\n",
    "data <- merge(noNApit, geno, all.x = T) \n",
    "\n",
    "head(data)"
   ]
  },
  {
   "cell_type": "code",
   "execution_count": 7,
   "metadata": {},
   "outputs": [
    {
     "data": {
      "text/html": [
       "<table>\n",
       "<thead><tr><th scope=col>Period</th><th scope=col>time</th><th scope=col>Tavg</th><th scope=col>Tmin</th><th scope=col>Tmax</th><th scope=col>DAP</th><th scope=col>site</th></tr></thead>\n",
       "<tbody>\n",
       "\t<tr><td>3/23/2016</td><td>0:00     </td><td>8.200000 </td><td>7.872222 </td><td>8.738889 </td><td>0        </td><td>1        </td></tr>\n",
       "\t<tr><td>3/23/2016</td><td>1:00     </td><td>7.783333 </td><td>7.377778 </td><td>8.050000 </td><td>0        </td><td>1        </td></tr>\n",
       "\t<tr><td>3/23/2016</td><td>2:00     </td><td>7.366667 </td><td>7.261111 </td><td>7.511111 </td><td>0        </td><td>1        </td></tr>\n",
       "\t<tr><td>3/23/2016</td><td>3:00     </td><td>6.800000 </td><td>6.633333 </td><td>7.150000 </td><td>0        </td><td>1        </td></tr>\n",
       "\t<tr><td>3/23/2016</td><td>4:00     </td><td>6.388889 </td><td>6.338889 </td><td>6.461111 </td><td>0        </td><td>1        </td></tr>\n",
       "\t<tr><td>3/23/2016</td><td>5:00     </td><td>6.422222 </td><td>6.322222 </td><td>6.522222 </td><td>0        </td><td>1        </td></tr>\n",
       "</tbody>\n",
       "</table>\n"
      ],
      "text/latex": [
       "\\begin{tabular}{r|lllllll}\n",
       " Period & time & Tavg & Tmin & Tmax & DAP & site\\\\\n",
       "\\hline\n",
       "\t 3/23/2016 & 0:00      & 8.200000  & 7.872222  & 8.738889  & 0         & 1        \\\\\n",
       "\t 3/23/2016 & 1:00      & 7.783333  & 7.377778  & 8.050000  & 0         & 1        \\\\\n",
       "\t 3/23/2016 & 2:00      & 7.366667  & 7.261111  & 7.511111  & 0         & 1        \\\\\n",
       "\t 3/23/2016 & 3:00      & 6.800000  & 6.633333  & 7.150000  & 0         & 1        \\\\\n",
       "\t 3/23/2016 & 4:00      & 6.388889  & 6.338889  & 6.461111  & 0         & 1        \\\\\n",
       "\t 3/23/2016 & 5:00      & 6.422222  & 6.322222  & 6.522222  & 0         & 1        \\\\\n",
       "\\end{tabular}\n"
      ],
      "text/markdown": [
       "\n",
       "Period | time | Tavg | Tmin | Tmax | DAP | site | \n",
       "|---|---|---|---|---|---|\n",
       "| 3/23/2016 | 0:00      | 8.200000  | 7.872222  | 8.738889  | 0         | 1         | \n",
       "| 3/23/2016 | 1:00      | 7.783333  | 7.377778  | 8.050000  | 0         | 1         | \n",
       "| 3/23/2016 | 2:00      | 7.366667  | 7.261111  | 7.511111  | 0         | 1         | \n",
       "| 3/23/2016 | 3:00      | 6.800000  | 6.633333  | 7.150000  | 0         | 1         | \n",
       "| 3/23/2016 | 4:00      | 6.388889  | 6.338889  | 6.461111  | 0         | 1         | \n",
       "| 3/23/2016 | 5:00      | 6.422222  | 6.322222  | 6.522222  | 0         | 1         | \n",
       "\n",
       "\n"
      ],
      "text/plain": [
       "  Period    time Tavg     Tmin     Tmax     DAP site\n",
       "1 3/23/2016 0:00 8.200000 7.872222 8.738889 0   1   \n",
       "2 3/23/2016 1:00 7.783333 7.377778 8.050000 0   1   \n",
       "3 3/23/2016 2:00 7.366667 7.261111 7.511111 0   1   \n",
       "4 3/23/2016 3:00 6.800000 6.633333 7.150000 0   1   \n",
       "5 3/23/2016 4:00 6.388889 6.338889 6.461111 0   1   \n",
       "6 3/23/2016 5:00 6.422222 6.322222 6.522222 0   1   "
      ]
     },
     "metadata": {},
     "output_type": "display_data"
    }
   ],
   "source": [
    "######## Now to convert dates to DAP ######\n",
    "weather1 <- weather\n",
    "weather2 <- weather\n",
    "\n",
    "s1Pdate <- as.Date('3/23/2016', tryFormats = c('%m/%d/%Y'))\n",
    "s2Pdate <- as.Date('5/6/2016', tryFormats = c('%m/%d/%Y'))\n",
    "\n",
    "weather1$DAP <- as.numeric(as.Date(weather$Period, tryFormats = c('%m/%d/%Y')) - s1Pdate)\n",
    "weather1$site <- 1\n",
    "\n",
    "weather2$DAP <- as.numeric(as.Date(weather$Period, tryFormats = c('%m/%d/%Y')) - s2Pdate)\n",
    "weather2$site <- 2\n",
    "\n",
    "weatherAll <- rbind(weather1, weather2[weather2$DAP > 0 ,])\n",
    "head(weatherAll)"
   ]
  },
  {
   "cell_type": "code",
   "execution_count": 6,
   "metadata": {},
   "outputs": [
    {
     "data": {
      "text/html": [
       "<table>\n",
       "<thead><tr><th scope=col>geno</th><th scope=col>Tbase</th><th scope=col>Topt1</th><th scope=col>Nm</th></tr></thead>\n",
       "<tbody>\n",
       "\t<tr><td>CAL    </td><td> 7.4   </td><td>25.0   </td><td>0.38   </td></tr>\n",
       "\t<tr><td>RIJC217</td><td>11.9   </td><td>19.8   </td><td>0.34   </td></tr>\n",
       "\t<tr><td>RIJC223</td><td>10.3   </td><td>21.1   </td><td>0.30   </td></tr>\n",
       "\t<tr><td>JAM    </td><td> 7.8   </td><td>25.0   </td><td>0.38   </td></tr>\n",
       "\t<tr><td>RIJC016</td><td> 8.4   </td><td>22.7   </td><td>0.33   </td></tr>\n",
       "\t<tr><td>RIJC208</td><td> 8.4   </td><td>24.0   </td><td>0.39   </td></tr>\n",
       "</tbody>\n",
       "</table>\n"
      ],
      "text/latex": [
       "\\begin{tabular}{r|llll}\n",
       " geno & Tbase & Topt1 & Nm\\\\\n",
       "\\hline\n",
       "\t CAL     &  7.4    & 25.0    & 0.38   \\\\\n",
       "\t RIJC217 & 11.9    & 19.8    & 0.34   \\\\\n",
       "\t RIJC223 & 10.3    & 21.1    & 0.30   \\\\\n",
       "\t JAM     &  7.8    & 25.0    & 0.38   \\\\\n",
       "\t RIJC016 &  8.4    & 22.7    & 0.33   \\\\\n",
       "\t RIJC208 &  8.4    & 24.0    & 0.39   \\\\\n",
       "\\end{tabular}\n"
      ],
      "text/markdown": [
       "\n",
       "geno | Tbase | Topt1 | Nm | \n",
       "|---|---|---|---|---|---|\n",
       "| CAL     |  7.4    | 25.0    | 0.38    | \n",
       "| RIJC217 | 11.9    | 19.8    | 0.34    | \n",
       "| RIJC223 | 10.3    | 21.1    | 0.30    | \n",
       "| JAM     |  7.8    | 25.0    | 0.38    | \n",
       "| RIJC016 |  8.4    | 22.7    | 0.33    | \n",
       "| RIJC208 |  8.4    | 24.0    | 0.39    | \n",
       "\n",
       "\n"
      ],
      "text/plain": [
       "  geno    Tbase Topt1 Nm  \n",
       "1 CAL      7.4  25.0  0.38\n",
       "2 RIJC217 11.9  19.8  0.34\n",
       "3 RIJC223 10.3  21.1  0.30\n",
       "4 JAM      7.8  25.0  0.38\n",
       "5 RIJC016  8.4  22.7  0.33\n",
       "6 RIJC208  8.4  24.0  0.39"
      ]
     },
     "metadata": {},
     "output_type": "display_data"
    }
   ],
   "source": [
    "selectLines <- data[grep('RIJC016|RIJC208|RIJC217|RIJC223|CAL|JAM',data$geno), ]\n",
    "\n",
    "selectLines <- selectLines[order(selectLines$geno),]\n",
    "#head(selectLines)\n",
    "# set up data frame for the parameters Nm, Tbase, Topt1\n",
    "para <- data.frame('geno' = c('CAL', 'RIJC217', 'RIJC223', 'JAM', 'RIJC016', 'RIJC208'), \n",
    "                   'Tbase' = c(7.4, 11.9, 10.3, 7.8, 8.4, 8.4),\n",
    "                   'Topt1' = c(25.0, 19.8, 21.1, 25, 22.7, 24.0),\n",
    "                   'Nm' = c(0.38, 0.34, 0.30, 0.38, 0.33, 0.39))\n",
    "para"
   ]
  },
  {
   "cell_type": "code",
   "execution_count": 9,
   "metadata": {},
   "outputs": [
    {
     "data": {
      "text/html": [
       "<table>\n",
       "<thead><tr><th scope=col>geno</th><th scope=col>site</th><th scope=col>DAP</th><th scope=col>DIPI</th><th scope=col>Tavg</th></tr></thead>\n",
       "<tbody>\n",
       "\t<tr><td>CAL      </td><td>1        </td><td>0        </td><td>0.2038991</td><td>16.99051 </td></tr>\n",
       "\t<tr><td>RIJC217  </td><td>1        </td><td>0        </td><td>0.1954342</td><td>16.99051 </td></tr>\n",
       "\t<tr><td>RIJC223  </td><td>1        </td><td>0        </td><td>0.1697531</td><td>16.99051 </td></tr>\n",
       "\t<tr><td>JAM      </td><td>1        </td><td>0        </td><td>0.2016602</td><td>16.99051 </td></tr>\n",
       "\t<tr><td>RIJC016  </td><td>1        </td><td>0        </td><td>0.1847382</td><td>16.99051 </td></tr>\n",
       "\t<tr><td>RIJC208  </td><td>1        </td><td>0        </td><td>0.2108854</td><td>16.99051 </td></tr>\n",
       "</tbody>\n",
       "</table>\n"
      ],
      "text/latex": [
       "\\begin{tabular}{r|lllll}\n",
       " geno & site & DAP & DIPI & Tavg\\\\\n",
       "\\hline\n",
       "\t CAL       & 1         & 0         & 0.2038991 & 16.99051 \\\\\n",
       "\t RIJC217   & 1         & 0         & 0.1954342 & 16.99051 \\\\\n",
       "\t RIJC223   & 1         & 0         & 0.1697531 & 16.99051 \\\\\n",
       "\t JAM       & 1         & 0         & 0.2016602 & 16.99051 \\\\\n",
       "\t RIJC016   & 1         & 0         & 0.1847382 & 16.99051 \\\\\n",
       "\t RIJC208   & 1         & 0         & 0.2108854 & 16.99051 \\\\\n",
       "\\end{tabular}\n"
      ],
      "text/markdown": [
       "\n",
       "geno | site | DAP | DIPI | Tavg | \n",
       "|---|---|---|---|---|---|\n",
       "| CAL       | 1         | 0         | 0.2038991 | 16.99051  | \n",
       "| RIJC217   | 1         | 0         | 0.1954342 | 16.99051  | \n",
       "| RIJC223   | 1         | 0         | 0.1697531 | 16.99051  | \n",
       "| JAM       | 1         | 0         | 0.2016602 | 16.99051  | \n",
       "| RIJC016   | 1         | 0         | 0.1847382 | 16.99051  | \n",
       "| RIJC208   | 1         | 0         | 0.2108854 | 16.99051  | \n",
       "\n",
       "\n"
      ],
      "text/plain": [
       "  geno    site DAP DIPI      Tavg    \n",
       "1 CAL     1    0   0.2038991 16.99051\n",
       "2 RIJC217 1    0   0.1954342 16.99051\n",
       "3 RIJC223 1    0   0.1697531 16.99051\n",
       "4 JAM     1    0   0.2016602 16.99051\n",
       "5 RIJC016 1    0   0.1847382 16.99051\n",
       "6 RIJC208 1    0   0.2108854 16.99051"
      ]
     },
     "metadata": {},
     "output_type": "display_data"
    }
   ],
   "source": [
    "####### Calculate DIPI using a UDF and by() ##########\n",
    "dp <- by(weatherAll, INDICES = list(weatherAll$Period, weatherAll$site), FUN = calcDIPI)\n",
    "dpTab <- do.call(\"rbind\", dp)\n",
    "head(dpTab)"
   ]
  },
  {
   "cell_type": "markdown",
   "metadata": {},
   "source": [
    "## Results"
   ]
  },
  {
   "cell_type": "code",
   "execution_count": 10,
   "metadata": {},
   "outputs": [
    {
     "data": {
      "text/html": [
       "<table>\n",
       "<thead><tr><th scope=col>site</th><th scope=col>geno</th><th scope=col>DIPI</th></tr></thead>\n",
       "<tbody>\n",
       "\t<tr><td>1        </td><td>CAL      </td><td>0.2722391</td></tr>\n",
       "\t<tr><td>2        </td><td>CAL      </td><td>0.3438605</td></tr>\n",
       "\t<tr><td>1        </td><td>JAM      </td><td>0.2697331</td></tr>\n",
       "\t<tr><td>2        </td><td>JAM      </td><td>0.3430201</td></tr>\n",
       "\t<tr><td>1        </td><td>RIJC016  </td><td>0.2525347</td></tr>\n",
       "\t<tr><td>2        </td><td>RIJC016  </td><td>0.3117094</td></tr>\n",
       "\t<tr><td>1        </td><td>RIJC208  </td><td>0.2840169</td></tr>\n",
       "\t<tr><td>2        </td><td>RIJC208  </td><td>0.3590958</td></tr>\n",
       "\t<tr><td>1        </td><td>RIJC217  </td><td>0.2670970</td></tr>\n",
       "\t<tr><td>2        </td><td>RIJC217  </td><td>0.3298233</td></tr>\n",
       "\t<tr><td>1        </td><td>RIJC223  </td><td>0.2333707</td></tr>\n",
       "\t<tr><td>2        </td><td>RIJC223  </td><td>0.2884693</td></tr>\n",
       "</tbody>\n",
       "</table>\n"
      ],
      "text/latex": [
       "\\begin{tabular}{r|lll}\n",
       " site & geno & DIPI\\\\\n",
       "\\hline\n",
       "\t 1         & CAL       & 0.2722391\\\\\n",
       "\t 2         & CAL       & 0.3438605\\\\\n",
       "\t 1         & JAM       & 0.2697331\\\\\n",
       "\t 2         & JAM       & 0.3430201\\\\\n",
       "\t 1         & RIJC016   & 0.2525347\\\\\n",
       "\t 2         & RIJC016   & 0.3117094\\\\\n",
       "\t 1         & RIJC208   & 0.2840169\\\\\n",
       "\t 2         & RIJC208   & 0.3590958\\\\\n",
       "\t 1         & RIJC217   & 0.2670970\\\\\n",
       "\t 2         & RIJC217   & 0.3298233\\\\\n",
       "\t 1         & RIJC223   & 0.2333707\\\\\n",
       "\t 2         & RIJC223   & 0.2884693\\\\\n",
       "\\end{tabular}\n"
      ],
      "text/markdown": [
       "\n",
       "site | geno | DIPI | \n",
       "|---|---|---|---|---|---|---|---|---|---|---|---|\n",
       "| 1         | CAL       | 0.2722391 | \n",
       "| 2         | CAL       | 0.3438605 | \n",
       "| 1         | JAM       | 0.2697331 | \n",
       "| 2         | JAM       | 0.3430201 | \n",
       "| 1         | RIJC016   | 0.2525347 | \n",
       "| 2         | RIJC016   | 0.3117094 | \n",
       "| 1         | RIJC208   | 0.2840169 | \n",
       "| 2         | RIJC208   | 0.3590958 | \n",
       "| 1         | RIJC217   | 0.2670970 | \n",
       "| 2         | RIJC217   | 0.3298233 | \n",
       "| 1         | RIJC223   | 0.2333707 | \n",
       "| 2         | RIJC223   | 0.2884693 | \n",
       "\n",
       "\n"
      ],
      "text/plain": [
       "   site geno    DIPI     \n",
       "1  1    CAL     0.2722391\n",
       "2  2    CAL     0.3438605\n",
       "3  1    JAM     0.2697331\n",
       "4  2    JAM     0.3430201\n",
       "5  1    RIJC016 0.2525347\n",
       "6  2    RIJC016 0.3117094\n",
       "7  1    RIJC208 0.2840169\n",
       "8  2    RIJC208 0.3590958\n",
       "9  1    RIJC217 0.2670970\n",
       "10 2    RIJC217 0.3298233\n",
       "11 1    RIJC223 0.2333707\n",
       "12 2    RIJC223 0.2884693"
      ]
     },
     "metadata": {},
     "output_type": "display_data"
    }
   ],
   "source": [
    "dpTab1 <- subset(dpTab, DAP >= 15 & DAP <=30)\n",
    "\n",
    "avgDIPI <- aggregate(dpTab1$DIPI, by = list(dpTab1$site, dpTab1$geno), FUN=mean)\n",
    "colnames(avgDIPI) <- c('site', 'geno', 'DIPI')\n",
    "avgDIPI"
   ]
  },
  {
   "attachments": {
    "image.png": {
     "image/png": "[encoded data removed]"
    }
   },
   "cell_type": "markdown",
   "metadata": {},
   "source": [
    "In the cell above is the results from calculating DIPI based on physiological days between 15 and 30 DAP. All values increased between the growing seasons. This implies that the increased temperatures in the second season should accelerate the growth of all genotypes. The actual values obtained by performing a linear regression on PI and DAP (Table 2) do not confirm this. Only RIJC208 and RIJC217 showed an increase in DIPI between the growing seasons. Jamapa, RIJC016 and RIJC223 showed decreases in DIPI.<br><br>\n",
    "The experimental and theoretical values were then compared to DIPI values obtained from the green house experiment (Table 3). The temperature treatement 24/18 degrees celsius was used for season 1 (21/20) and 29/23 was used for season 2 (26/25). DIPI varied between the greenhouse and experimental values and no general trends could be observed. This indicates that the temperature treatments might not be a good representation of the DIPI in the field. Calculated DIPI also varied from green house values. This could be the result of the many variable factors that plants in the field experience as opposed to the stead state conditions of the greenhouse. <br><br>\n",
    "<b>Table 2:</b> DIPI obtained from the linear regression of PI vs DAP for select lines (source: PI_citra 2016.pynb)\n",
    "![image.png](attachment:image.png)"
   ]
  },
  {
   "attachments": {
    "image.png": {
     "image/png": "[encoded data removed]"
    }
   },
   "cell_type": "markdown",
   "metadata": {},
   "source": [
    "<b> Table 3: </b> DIPI obtained from greenhouse experiment (Source: Li)\n",
    "![image.png](attachment:image.png)"
   ]
  },
  {
   "cell_type": "code",
   "execution_count": 20,
   "metadata": {},
   "outputs": [
    {
     "data": {
      "text/html": [
       "<table>\n",
       "<thead><tr><th scope=col>site</th><th scope=col>Tmin</th><th scope=col>Tavg</th><th scope=col>Tmax</th></tr></thead>\n",
       "<tbody>\n",
       "\t<tr><td>1       </td><td>19.92801</td><td>20.39709</td><td>20.86298</td></tr>\n",
       "\t<tr><td>2       </td><td>25.42873</td><td>25.95069</td><td>26.47626</td></tr>\n",
       "</tbody>\n",
       "</table>\n"
      ],
      "text/latex": [
       "\\begin{tabular}{r|llll}\n",
       " site & Tmin & Tavg & Tmax\\\\\n",
       "\\hline\n",
       "\t 1        & 19.92801 & 20.39709 & 20.86298\\\\\n",
       "\t 2        & 25.42873 & 25.95069 & 26.47626\\\\\n",
       "\\end{tabular}\n"
      ],
      "text/markdown": [
       "\n",
       "site | Tmin | Tavg | Tmax | \n",
       "|---|---|\n",
       "| 1        | 19.92801 | 20.39709 | 20.86298 | \n",
       "| 2        | 25.42873 | 25.95069 | 26.47626 | \n",
       "\n",
       "\n"
      ],
      "text/plain": [
       "  site Tmin     Tavg     Tmax    \n",
       "1 1    19.92801 20.39709 20.86298\n",
       "2 2    25.42873 25.95069 26.47626"
      ]
     },
     "metadata": {},
     "output_type": "display_data"
    },
    {
     "data": {
      "text/plain": [
       "\n",
       "\tWelch Two Sample t-test\n",
       "\n",
       "data:  piTemp$Tavg[piTemp$site == 1] and piTemp$Tavg[piTemp$site == 2]\n",
       "t = -15.677, df = 764.01, p-value < 2.2e-16\n",
       "alternative hypothesis: true difference in means is not equal to 0\n",
       "95 percent confidence interval:\n",
       " -6.249012 -4.858193\n",
       "sample estimates:\n",
       "mean of x mean of y \n",
       " 20.39709  25.95069 \n"
      ]
     },
     "metadata": {},
     "output_type": "display_data"
    }
   ],
   "source": [
    "piTemp <- weatherAll[weatherAll$DAP >=15 & weatherAll$DAP <=30,]\n",
    "piTemp1 <- aggregate(piTemp[,c('Tmin', 'Tavg', 'Tmax')], by = list(piTemp$site), FUN=mean, na.rm=T)\n",
    "colnames(piTemp1)[1] <- 'site'\n",
    "\n",
    "piTemp1 #Min, avg and max temperatures for each growing seasons from DAP 15 to DAP 30.\n",
    "t.test(piTemp$Tavg[piTemp$site==1], piTemp$Tavg[piTemp$site==2])"
   ]
  }
 ],
 "metadata": {
  "kernelspec": {
   "display_name": "R",
   "language": "R",
   "name": "ir"
  },
  "language_info": {
   "codemirror_mode": "r",
   "file_extension": ".r",
   "mimetype": "text/x-r-source",
   "name": "R",
   "pygments_lexer": "r",
   "version": "3.5.1"
  }
 },
 "nbformat": 4,
 "nbformat_minor": 2
}
