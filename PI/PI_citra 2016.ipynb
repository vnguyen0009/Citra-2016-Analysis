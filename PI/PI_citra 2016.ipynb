{
 "cells": [
  {
   "cell_type": "markdown",
   "metadata": {},
   "source": [
    "# Linear regression of Plastechron Index\n",
    "Author: Vy T. Nguyen<br>\n",
    "Last Edited: 12/3/2018\n",
    "\n",
    "## Purpose\n",
    "To fit plastechron indexes for replication of a plot to a linear model and find the average slope for each plot and genotype for each season of the Citra 2016 experiment.\n"
   ]
  },
  {
   "cell_type": "code",
   "execution_count": 1,
   "metadata": {},
   "outputs": [
    {
     "name": "stderr",
     "output_type": "stream",
     "text": [
      "\n",
      "Attaching package: 'dplyr'\n",
      "\n",
      "The following objects are masked from 'package:plyr':\n",
      "\n",
      "    arrange, count, desc, failwith, id, mutate, rename, summarise,\n",
      "    summarize\n",
      "\n",
      "The following objects are masked from 'package:stats':\n",
      "\n",
      "    filter, lag\n",
      "\n",
      "The following objects are masked from 'package:base':\n",
      "\n",
      "    intersect, setdiff, setequal, union\n",
      "\n"
     ]
    }
   ],
   "source": [
    "rm(list = ls())\n",
    "\n",
    "library(plyr)\n",
    "library(dplyr)\n",
    "library(ggplot2)\n",
    "\n",
    "setwd(paste('C:/Users/Vy/Documents'))\n",
    "wd <- getwd()\n",
    "setwd(paste(wd,'work','Data','Citra2016', sep = '/'))\n",
    "\n",
    "data <- read.csv('pIndex_citra 2016.csv', header = T, na.strings = c('NA', '', '#NUM!', '#REF!', '#VALUE!'), stringsAsFactors=T)\n",
    "geno <- read.csv('PtoGen.csv', header = T, stringsAsFactors=T)\n",
    "\n",
    "#head(data)\n",
    "#tail(data)\n",
    "\n",
    "#head(geno)\n",
    "#tail(geno)\n",
    "#length(unique(geno[grep('RIJC',geno$geno), 'geno']))\n",
    "\n",
    "#length(unique(geno[grep('TM',geno$geno), 'geno']))\n"
   ]
  },
  {
   "cell_type": "code",
   "execution_count": 2,
   "metadata": {},
   "outputs": [],
   "source": [
    "PIT <- data[c('Plot.ID', 'site', 'Plant.ID', 'PIT1', 'PIT2', 'PIT3', 'T1..DAP.', 'T2.DAP.', 'T3.DAP.')]\n",
    "#head(PIT)"
   ]
  },
  {
   "cell_type": "code",
   "execution_count": 3,
   "metadata": {},
   "outputs": [],
   "source": [
    "pit1 <- data[c('Plot.ID', 'Plant.ID', 'PIT1', 'T1..DAP.', 'site')]\n",
    "colnames(pit1) <- c('plot', 'rep', 'PI', 'DAP', 'site')\n",
    "\n",
    "pit2 <- data[c('Plot.ID', 'Plant.ID', 'PIT2', 'T2.DAP.', 'site')]\n",
    "colnames(pit2) <- c('plot', 'rep', 'PI', 'DAP', 'site')\n",
    "\n",
    "pit3 <- data[c('Plot.ID', 'Plant.ID', 'PIT3', 'T3.DAP.', 'site')]\n",
    "colnames(pit3) <- c('plot', 'rep', 'PI', 'DAP', 'site')\n",
    "\n",
    "pit <- rbind(pit1, pit2)\n",
    "pit <- rbind(pit, pit3)\n",
    "\n",
    "noNApit <- pit[is.na(pit$PI)==F & is.na(pit$DAP)==F,]\n",
    "\n",
    "#head(noNApit)\n",
    "#tail(noNApit)\n",
    "#nrow(pit)\n",
    "#nrow(noNApit)"
   ]
  },
  {
   "cell_type": "code",
   "execution_count": 4,
   "metadata": {},
   "outputs": [],
   "source": [
    "plotPI <- function(x,y, data, fit){\n",
    "    c <- ggplot(data)\n",
    "    plot1 <- c + \n",
    "      #geom_smooth(aes(x=DAP, y=value), se=F, span=1) +\n",
    "      geom_point(aes(x=x, y=y))+\n",
    "      #facet_grid(.~plot) +\n",
    "      coord_cartesian(ylim = c()) + \n",
    "      theme() +\n",
    "      labs(x = 'Days After Planting (DAP)', y = paste('Plastechron Index (PI)'), \n",
    "            title = paste('Plot', data$plot,'Season', data$site, 'Plant', data$rep, sep=' ') ) + \n",
    "      theme_bw() + \n",
    "      scale_alpha(guide = 'none')  +\n",
    "      geom_line(aes(x=x, y=predict(fit), color='red'))\n",
    "    \n",
    "    print(plot1)\n",
    "}"
   ]
  },
  {
   "cell_type": "code",
   "execution_count": 5,
   "metadata": {},
   "outputs": [],
   "source": [
    "findSlope <- function(x){\n",
    "    #print(x)\n",
    "    DAP  <- as.numeric(x[,'DAP'])\n",
    "    PI <- as.numeric(x[,'PI'])\n",
    "    \n",
    "    fit <- lm(PI ~ DAP, data=x, na.action=na.omit)\n",
    "    \n",
    "    result <-  data.frame('slope' = summary(fit)$coefficient[2], \n",
    "                          'inter' = summary(fit)$coefficient[1],\n",
    "                          'sd' = sd(x$PI),\n",
    "                          'plot' = x[1,'plot'], \n",
    "                          'rep' = x[1,'rep'],\n",
    "                         'site' = x[1,'site'],\n",
    "                         'r2' = summary(fit)$r.squared)\n",
    "    #plotPI(DAP,PI,x,fit)\n",
    "    \n",
    "    return(result)\n",
    "}"
   ]
  },
  {
   "cell_type": "code",
   "execution_count": 6,
   "metadata": {},
   "outputs": [],
   "source": [
    "byPlot = by(noNApit, INDICES=list(noNApit$site, noNApit$plot, noNApit$rep), FUN=findSlope)\n",
    "\n",
    "results <- do.call(\"rbind\", byPlot)"
   ]
  },
  {
   "cell_type": "code",
   "execution_count": 7,
   "metadata": {
    "scrolled": false
   },
   "outputs": [],
   "source": [
    "#head(results[results$site==2,])\n",
    "#nrow(results)\n",
    "#factor(results$site)"
   ]
  },
  {
   "cell_type": "code",
   "execution_count": 8,
   "metadata": {},
   "outputs": [],
   "source": [
    "resultsRIL <- merge(results, geno, by = 'plot', all.x=T)\n",
    "\n",
    "meanRIL <- aggregate(resultsRIL[,c('slope', 'inter', 'r2')], by = list(resultsRIL$geno, resultsRIL$site), FUN=mean, na.action=na.rm)\n",
    "colnames(meanRIL)[1:2] <- c('geno', 'site')\n",
    "\n",
    "#head(meanRIL[meanRIL$site==2,])\n"
   ]
  },
  {
   "cell_type": "markdown",
   "metadata": {},
   "source": [
    "# Results and Discussion\n",
    "## All Lines"
   ]
  },
  {
   "cell_type": "code",
   "execution_count": 9,
   "metadata": {},
   "outputs": [
    {
     "data": {
      "text/html": [
       "<table>\n",
       "<thead><tr><th scope=col>site</th><th scope=col>slope</th><th scope=col>inter</th><th scope=col>r2</th></tr></thead>\n",
       "<tbody>\n",
       "\t<tr><td>1        </td><td>0.2794118</td><td>-2.603380</td><td>0.9559936</td></tr>\n",
       "\t<tr><td>2        </td><td>0.3011524</td><td>-2.300145</td><td>0.9379967</td></tr>\n",
       "</tbody>\n",
       "</table>\n"
      ],
      "text/latex": [
       "\\begin{tabular}{r|llll}\n",
       " site & slope & inter & r2\\\\\n",
       "\\hline\n",
       "\t 1         & 0.2794118 & -2.603380 & 0.9559936\\\\\n",
       "\t 2         & 0.3011524 & -2.300145 & 0.9379967\\\\\n",
       "\\end{tabular}\n"
      ],
      "text/markdown": [
       "\n",
       "site | slope | inter | r2 | \n",
       "|---|---|\n",
       "| 1         | 0.2794118 | -2.603380 | 0.9559936 | \n",
       "| 2         | 0.3011524 | -2.300145 | 0.9379967 | \n",
       "\n",
       "\n"
      ],
      "text/plain": [
       "  site slope     inter     r2       \n",
       "1 1    0.2794118 -2.603380 0.9559936\n",
       "2 2    0.3011524 -2.300145 0.9379967"
      ]
     },
     "metadata": {},
     "output_type": "display_data"
    }
   ],
   "source": [
    "seasonResults <- aggregate(results[c('slope', 'inter', 'r2')], by = list(results$site), FUN =mean, na.rm=T)\n",
    "colnames(seasonResults)[1] = 'site'\n",
    "seasonResults"
   ]
  },
  {
   "cell_type": "markdown",
   "metadata": {},
   "source": [
    "Season 1 of Citra 2016 had a Plastechron slope over time of 0.279 while season 2 had a slope of 0.301 and r-squared values of 0.956 and 0.938. When performing a t-test between the two seasons, p-value was calculated as 0.0058. Since the p-value was underneath an alpha value of 0.05, it strongly suggests that there is a true difference between the slopes. This suggests that the enviromental differences in the two seasons may play a role in the slope of the plastechron index and therefore the development of the population."
   ]
  },
  {
   "cell_type": "code",
   "execution_count": 10,
   "metadata": {
    "scrolled": true
   },
   "outputs": [
    {
     "data": {
      "text/plain": [
       "\n",
       "\tWelch Two Sample t-test\n",
       "\n",
       "data:  s1Slope and s2Slope\n",
       "t = -2.7803, df = 257.4, p-value = 0.005831\n",
       "alternative hypothesis: true difference in means is not equal to 0\n",
       "95 percent confidence interval:\n",
       " -0.036922251 -0.006305428\n",
       "sample estimates:\n",
       "mean of x mean of y \n",
       "0.2794277 0.3010416 \n"
      ]
     },
     "metadata": {},
     "output_type": "display_data"
    }
   ],
   "source": [
    "s1Slope <- meanRIL[meanRIL$site==1, 'slope']\n",
    "s2Slope <- meanRIL[meanRIL$site==2, 'slope']\n",
    "\n",
    "t.test(s1Slope,s2Slope)"
   ]
  },
  {
   "cell_type": "code",
   "execution_count": 11,
   "metadata": {
    "scrolled": false
   },
   "outputs": [
    {
     "name": "stderr",
     "output_type": "stream",
     "text": [
      "`stat_bin()` using `bins = 30`. Pick better value with `binwidth`.\n",
      "Warning message:\n",
      "\"Removed 5 rows containing non-finite values (stat_bin).\"Warning message:\n",
      "\"Removed 5 rows containing missing values (geom_text).\""
     ]
    },
    {
     "data": {
      "image/png": "[encoded data removed]",
      "text/plain": [
       "plot without title"
      ]
     },
     "metadata": {},
     "output_type": "display_data"
    }
   ],
   "source": [
    "p <- ggplot(meanRIL, aes(label = geno))\n",
    "\n",
    "plot1 <- p + geom_histogram(aes(x=meanRIL$slope)) +\n",
    "    coord_cartesian(ylim = c()) + \n",
    "    theme() +\n",
    "    labs( x = paste('Slope'), \n",
    "        title = paste('Histogram of Linear Regression Slopes for Citra 2016', sep=' ') ) + \n",
    "    theme_bw() + \n",
    "    scale_alpha(guide = 'none')+\n",
    "    facet_grid(rows = vars(meanRIL$site)) +\n",
    "    geom_text(aes(label = ifelse(meanRIL$geno %in% meanRIL[grep('CAL|JAM', meanRIL$geno),'geno'],\n",
    "                                 as.character(geno), ''), x = meanRIL$slope, y = 5))\n",
    "\n",
    "print(plot1)"
   ]
  },
  {
   "cell_type": "markdown",
   "metadata": {},
   "source": [
    "## RIJC lines"
   ]
  },
  {
   "cell_type": "code",
   "execution_count": 12,
   "metadata": {
    "scrolled": true
   },
   "outputs": [
    {
     "data": {
      "text/plain": [
       "\n",
       "\tWelch Two Sample t-test\n",
       "\n",
       "data:  S1RIJC and S2RIJC\n",
       "t = -1.8748, df = 206.29, p-value = 0.06224\n",
       "alternative hypothesis: true difference in means is not equal to 0\n",
       "95 percent confidence interval:\n",
       " -0.0330266491  0.0008309841\n",
       "sample estimates:\n",
       "mean of x mean of y \n",
       "0.2786220 0.2947198 \n"
      ]
     },
     "metadata": {},
     "output_type": "display_data"
    },
    {
     "name": "stderr",
     "output_type": "stream",
     "text": [
      "`stat_bin()` using `bins = 30`. Pick better value with `binwidth`.\n",
      "Warning message:\n",
      "\"Removed 4 rows containing non-finite values (stat_bin).\"Warning message:\n",
      "\"Removed 4 rows containing missing values (geom_text).\""
     ]
    },
    {
     "data": {
      "image/png": "[encoded data removed]",
      "text/plain": [
       "plot without title"
      ]
     },
     "metadata": {},
     "output_type": "display_data"
    }
   ],
   "source": [
    "RIJC <- meanRIL[grep('RIJC|CAL|JAM',meanRIL$geno), ]\n",
    "\n",
    "S1RIJC <- RIJC[RIJC$site==1, 'slope']\n",
    "S2RIJC <- RIJC[RIJC$site==2, 'slope']\n",
    "\n",
    "t.test(S1RIJC,S2RIJC)\n",
    "\n",
    "q <- ggplot(RIJC, aes(label = geno))\n",
    "\n",
    "plot2 <- q + geom_histogram(aes(x=RIJC$slope)) +\n",
    "    coord_cartesian(ylim = c()) + \n",
    "    theme() +\n",
    "    labs( x = paste('Slope'), \n",
    "        title = paste('RIJC Histogram of Linear Regression Slopes for Citra 2016', sep=' ') ) + \n",
    "    theme_bw() + \n",
    "    scale_alpha(guide = 'none')+\n",
    "    facet_grid(rows = vars(RIJC$site)) +\n",
    "    geom_text(aes(label = ifelse(RIJC$geno %in% RIJC[grep('CAL|JAM', RIJC$geno),'geno'],\n",
    "                                 as.character(geno), ''), x = RIJC$slope, y = 5))\n",
    "\n",
    "print(plot2)"
   ]
  },
  {
   "cell_type": "markdown",
   "metadata": {},
   "source": [
    "## Select Lines"
   ]
  },
  {
   "cell_type": "code",
   "execution_count": 13,
   "metadata": {},
   "outputs": [],
   "source": [
    "selectLines <- meanRIL[grep('RIJC016|RIJC208|RIJC217|RIJC223|CAL|JAM',meanRIL$geno), ]\n",
    "\n",
    "#selectLines <- selectLines[order(selectLines$geno),]\n",
    "write.csv(selectLines, 'selectLines.csv')"
   ]
  },
  {
   "cell_type": "code",
   "execution_count": 16,
   "metadata": {},
   "outputs": [
    {
     "data": {
      "text/html": [
       "<table>\n",
       "<thead><tr><th scope=col>slope</th><th scope=col>inter</th><th scope=col>sd</th><th scope=col>plot</th><th scope=col>rep</th><th scope=col>site</th><th scope=col>r2</th></tr></thead>\n",
       "<tbody>\n",
       "\t<tr><td>0.3078369</td><td>-3.502816</td><td>0.9241048</td><td>1        </td><td>P1       </td><td>1        </td><td>0.9987148</td></tr>\n",
       "\t<tr><td>0.3389771</td><td>-4.068113</td><td>1.0170562</td><td>10       </td><td>P1       </td><td>1        </td><td>0.9997544</td></tr>\n",
       "\t<tr><td>0.1757521</td><td>-1.347403</td><td>0.4465611</td><td>100      </td><td>P1       </td><td>1        </td><td>0.9810060</td></tr>\n",
       "\t<tr><td>0.2948755</td><td>-3.439955</td><td>0.7424427</td><td>101      </td><td>P1       </td><td>1        </td><td>0.9990425</td></tr>\n",
       "\t<tr><td>0.3302589</td><td>-3.818027</td><td>0.8385964</td><td>102      </td><td>P1       </td><td>1        </td><td>0.9822802</td></tr>\n",
       "\t<tr><td>0.2404295</td><td>-2.695972</td><td>0.6052733</td><td>103      </td><td>P1       </td><td>1        </td><td>0.9993202</td></tr>\n",
       "</tbody>\n",
       "</table>\n"
      ],
      "text/latex": [
       "\\begin{tabular}{r|lllllll}\n",
       " slope & inter & sd & plot & rep & site & r2\\\\\n",
       "\\hline\n",
       "\t 0.3078369 & -3.502816 & 0.9241048 & 1         & P1        & 1         & 0.9987148\\\\\n",
       "\t 0.3389771 & -4.068113 & 1.0170562 & 10        & P1        & 1         & 0.9997544\\\\\n",
       "\t 0.1757521 & -1.347403 & 0.4465611 & 100       & P1        & 1         & 0.9810060\\\\\n",
       "\t 0.2948755 & -3.439955 & 0.7424427 & 101       & P1        & 1         & 0.9990425\\\\\n",
       "\t 0.3302589 & -3.818027 & 0.8385964 & 102       & P1        & 1         & 0.9822802\\\\\n",
       "\t 0.2404295 & -2.695972 & 0.6052733 & 103       & P1        & 1         & 0.9993202\\\\\n",
       "\\end{tabular}\n"
      ],
      "text/markdown": [
       "\n",
       "slope | inter | sd | plot | rep | site | r2 | \n",
       "|---|---|---|---|---|---|\n",
       "| 0.3078369 | -3.502816 | 0.9241048 | 1         | P1        | 1         | 0.9987148 | \n",
       "| 0.3389771 | -4.068113 | 1.0170562 | 10        | P1        | 1         | 0.9997544 | \n",
       "| 0.1757521 | -1.347403 | 0.4465611 | 100       | P1        | 1         | 0.9810060 | \n",
       "| 0.2948755 | -3.439955 | 0.7424427 | 101       | P1        | 1         | 0.9990425 | \n",
       "| 0.3302589 | -3.818027 | 0.8385964 | 102       | P1        | 1         | 0.9822802 | \n",
       "| 0.2404295 | -2.695972 | 0.6052733 | 103       | P1        | 1         | 0.9993202 | \n",
       "\n",
       "\n"
      ],
      "text/plain": [
       "  slope     inter     sd        plot rep site r2       \n",
       "1 0.3078369 -3.502816 0.9241048 1    P1  1    0.9987148\n",
       "2 0.3389771 -4.068113 1.0170562 10   P1  1    0.9997544\n",
       "3 0.1757521 -1.347403 0.4465611 100  P1  1    0.9810060\n",
       "4 0.2948755 -3.439955 0.7424427 101  P1  1    0.9990425\n",
       "5 0.3302589 -3.818027 0.8385964 102  P1  1    0.9822802\n",
       "6 0.2404295 -2.695972 0.6052733 103  P1  1    0.9993202"
      ]
     },
     "metadata": {},
     "output_type": "display_data"
    },
    {
     "data": {
      "text/html": [
       "<table>\n",
       "<thead><tr><th></th><th scope=col>geno</th><th scope=col>site</th><th scope=col>slope</th><th scope=col>inter</th><th scope=col>r2</th></tr></thead>\n",
       "<tbody>\n",
       "\t<tr><th scope=row>3</th><td>CAL       </td><td>1         </td><td>0.2322145 </td><td>-1.2012999</td><td>0.9498740 </td></tr>\n",
       "\t<tr><th scope=row>135</th><td>CAL       </td><td>2         </td><td>      NaN </td><td>-1.6416875</td><td>0.9081736 </td></tr>\n",
       "\t<tr><th scope=row>8</th><td>JAM       </td><td>1         </td><td>0.2910273 </td><td>-2.9956562</td><td>0.8819519 </td></tr>\n",
       "\t<tr><th scope=row>140</th><td>JAM       </td><td>2         </td><td>0.2603627 </td><td>-1.9718347</td><td>0.9858628 </td></tr>\n",
       "\t<tr><th scope=row>22</th><td>RIJC016   </td><td>1         </td><td>0.3404150 </td><td>-4.0097929</td><td>0.9905355 </td></tr>\n",
       "\t<tr><th scope=row>154</th><td>RIJC016   </td><td>2         </td><td>0.2479945 </td><td>-1.8694633</td><td>0.9808753 </td></tr>\n",
       "\t<tr><th scope=row>64</th><td>RIJC208   </td><td>1         </td><td>0.2711636 </td><td>-2.4496404</td><td>0.9835010 </td></tr>\n",
       "\t<tr><th scope=row>196</th><td>RIJC208   </td><td>2         </td><td>0.2961063 </td><td>-2.4463351</td><td>0.9901415 </td></tr>\n",
       "\t<tr><th scope=row>67</th><td>RIJC217   </td><td>1         </td><td>0.2346858 </td><td>-1.7570314</td><td>0.9799675 </td></tr>\n",
       "\t<tr><th scope=row>199</th><td>RIJC217   </td><td>2         </td><td>0.3398284 </td><td>-3.3931981</td><td>0.9385951 </td></tr>\n",
       "\t<tr><th scope=row>69</th><td>RIJC223   </td><td>1         </td><td>0.2322168 </td><td>-1.2602384</td><td>0.9458122 </td></tr>\n",
       "\t<tr><th scope=row>201</th><td>RIJC223   </td><td>2         </td><td>0.2276427 </td><td>-0.4294342</td><td>0.8351585 </td></tr>\n",
       "</tbody>\n",
       "</table>\n"
      ],
      "text/latex": [
       "\\begin{tabular}{r|lllll}\n",
       "  & geno & site & slope & inter & r2\\\\\n",
       "\\hline\n",
       "\t3 & CAL        & 1          & 0.2322145  & -1.2012999 & 0.9498740 \\\\\n",
       "\t135 & CAL        & 2          &       NaN  & -1.6416875 & 0.9081736 \\\\\n",
       "\t8 & JAM        & 1          & 0.2910273  & -2.9956562 & 0.8819519 \\\\\n",
       "\t140 & JAM        & 2          & 0.2603627  & -1.9718347 & 0.9858628 \\\\\n",
       "\t22 & RIJC016    & 1          & 0.3404150  & -4.0097929 & 0.9905355 \\\\\n",
       "\t154 & RIJC016    & 2          & 0.2479945  & -1.8694633 & 0.9808753 \\\\\n",
       "\t64 & RIJC208    & 1          & 0.2711636  & -2.4496404 & 0.9835010 \\\\\n",
       "\t196 & RIJC208    & 2          & 0.2961063  & -2.4463351 & 0.9901415 \\\\\n",
       "\t67 & RIJC217    & 1          & 0.2346858  & -1.7570314 & 0.9799675 \\\\\n",
       "\t199 & RIJC217    & 2          & 0.3398284  & -3.3931981 & 0.9385951 \\\\\n",
       "\t69 & RIJC223    & 1          & 0.2322168  & -1.2602384 & 0.9458122 \\\\\n",
       "\t201 & RIJC223    & 2          & 0.2276427  & -0.4294342 & 0.8351585 \\\\\n",
       "\\end{tabular}\n"
      ],
      "text/markdown": [
       "\n",
       "| <!--/--> | geno | site | slope | inter | r2 | \n",
       "|---|---|---|---|---|---|---|---|---|---|---|---|\n",
       "| 3 | CAL        | 1          | 0.2322145  | -1.2012999 | 0.9498740  | \n",
       "| 135 | CAL        | 2          |       NaN  | -1.6416875 | 0.9081736  | \n",
       "| 8 | JAM        | 1          | 0.2910273  | -2.9956562 | 0.8819519  | \n",
       "| 140 | JAM        | 2          | 0.2603627  | -1.9718347 | 0.9858628  | \n",
       "| 22 | RIJC016    | 1          | 0.3404150  | -4.0097929 | 0.9905355  | \n",
       "| 154 | RIJC016    | 2          | 0.2479945  | -1.8694633 | 0.9808753  | \n",
       "| 64 | RIJC208    | 1          | 0.2711636  | -2.4496404 | 0.9835010  | \n",
       "| 196 | RIJC208    | 2          | 0.2961063  | -2.4463351 | 0.9901415  | \n",
       "| 67 | RIJC217    | 1          | 0.2346858  | -1.7570314 | 0.9799675  | \n",
       "| 199 | RIJC217    | 2          | 0.3398284  | -3.3931981 | 0.9385951  | \n",
       "| 69 | RIJC223    | 1          | 0.2322168  | -1.2602384 | 0.9458122  | \n",
       "| 201 | RIJC223    | 2          | 0.2276427  | -0.4294342 | 0.8351585  | \n",
       "\n",
       "\n"
      ],
      "text/plain": [
       "    geno    site slope     inter      r2       \n",
       "3   CAL     1    0.2322145 -1.2012999 0.9498740\n",
       "135 CAL     2          NaN -1.6416875 0.9081736\n",
       "8   JAM     1    0.2910273 -2.9956562 0.8819519\n",
       "140 JAM     2    0.2603627 -1.9718347 0.9858628\n",
       "22  RIJC016 1    0.3404150 -4.0097929 0.9905355\n",
       "154 RIJC016 2    0.2479945 -1.8694633 0.9808753\n",
       "64  RIJC208 1    0.2711636 -2.4496404 0.9835010\n",
       "196 RIJC208 2    0.2961063 -2.4463351 0.9901415\n",
       "67  RIJC217 1    0.2346858 -1.7570314 0.9799675\n",
       "199 RIJC217 2    0.3398284 -3.3931981 0.9385951\n",
       "69  RIJC223 1    0.2322168 -1.2602384 0.9458122\n",
       "201 RIJC223 2    0.2276427 -0.4294342 0.8351585"
      ]
     },
     "metadata": {},
     "output_type": "display_data"
    }
   ],
   "source": [
    "head(results)\n",
    "selectLines"
   ]
  },
  {
   "cell_type": "markdown",
   "metadata": {},
   "source": []
  }
 ],
 "metadata": {
  "kernelspec": {
   "display_name": "R",
   "language": "R",
   "name": "ir"
  },
  "language_info": {
   "codemirror_mode": "r",
   "file_extension": ".r",
   "mimetype": "text/x-r-source",
   "name": "R",
   "pygments_lexer": "r",
   "version": "3.5.1"
  }
 },
 "nbformat": 4,
 "nbformat_minor": 2
}
